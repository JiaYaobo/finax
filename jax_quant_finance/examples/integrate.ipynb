{
 "cells": [
  {
   "cell_type": "code",
   "execution_count": 1,
   "metadata": {},
   "outputs": [],
   "source": [
    "import jax.numpy as jnp\n",
    "from jax.config import config\n",
    "config.update(\"jax_enable_x64\", True)"
   ]
  },
  {
   "cell_type": "code",
   "execution_count": 4,
   "metadata": {},
   "outputs": [],
   "source": [
    "from jax_quant_finance.experimental.math.intergration import integrate"
   ]
  },
  {
   "cell_type": "code",
   "execution_count": 6,
   "metadata": {},
   "outputs": [
    {
     "name": "stdout",
     "output_type": "stream",
     "text": [
      "[ 538.05854428 3975.74476823]\n",
      "[ 538.27381075 3977.33538424]\n"
     ]
    }
   ],
   "source": [
    "func = lambda x: jnp.exp(2 * x +1)\n",
    "lower=jnp.asarray([1.0,2.0])\n",
    "upper=jnp.asarray([3.0,4.0])\n",
    "dtype = jnp.float64\n",
    "\n",
    "antiderivate_func = lambda x: jnp.exp(2*x+1)/2\n",
    "\n",
    "sim = integrate.integrate(func, lower, upper, num_points=10001 ,dtype=dtype)\n",
    "ans = antiderivate_func(upper)-antiderivate_func(lower)\n",
    "\n",
    "print(sim)\n",
    "\n",
    "print(ans)"
   ]
  }
 ],
 "metadata": {
  "interpreter": {
   "hash": "d4d1e4263499bec80672ea0156c357c1ee493ec2b1c70f0acce89fc37c4a6abe"
  },
  "kernelspec": {
   "display_name": "Python 3.7.3 ('base')",
   "language": "python",
   "name": "python3"
  },
  "language_info": {
   "codemirror_mode": {
    "name": "ipython",
    "version": 3
   },
   "file_extension": ".py",
   "mimetype": "text/x-python",
   "name": "python",
   "nbconvert_exporter": "python",
   "pygments_lexer": "ipython3",
   "version": "3.7.3"
  },
  "orig_nbformat": 4
 },
 "nbformat": 4,
 "nbformat_minor": 2
}
